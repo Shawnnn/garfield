{
 "cells": [
  {
   "cell_type": "code",
   "execution_count": 1,
   "metadata": {},
   "outputs": [
    {
     "name": "stdout",
     "output_type": "stream",
     "text": [
      "What's your name?\n"
     ]
    },
    {
     "name": "stdin",
     "output_type": "stream",
     "text": [
      " Neo\n"
     ]
    },
    {
     "name": "stdout",
     "output_type": "stream",
     "text": [
      "Hello Neo!\n"
     ]
    }
   ],
   "source": [
    "print('What\\'s your name?')\n",
    "name = input()\n",
    "print(f'Hello {name}!')"
   ]
  },
  {
   "cell_type": "code",
   "execution_count": 3,
   "metadata": {},
   "outputs": [
    {
     "name": "stdout",
     "output_type": "stream",
     "text": [
      "How are you today?\n"
     ]
    },
    {
     "name": "stdin",
     "output_type": "stream",
     "text": [
      " I don't know\n"
     ]
    },
    {
     "name": "stdout",
     "output_type": "stream",
     "text": [
      "Sorry to hear that.\n"
     ]
    }
   ],
   "source": [
    "print('How are you today?')\n",
    "feeling = input()\n",
    "if 'good' in feeling:\n",
    "    print('I\\'m feeling good too!')\n",
    "else:\n",
    "    print('Sorry to hear that.')"
   ]
  },
  {
   "cell_type": "code",
   "execution_count": 4,
   "metadata": {},
   "outputs": [
    {
     "name": "stdout",
     "output_type": "stream",
     "text": [
      "What's your favorite color?\n"
     ]
    },
    {
     "name": "stdin",
     "output_type": "stream",
     "text": [
      " blue\n"
     ]
    },
    {
     "name": "stdout",
     "output_type": "stream",
     "text": [
      "You like blue? That's a great color. My favorite color is blue.\n"
     ]
    }
   ],
   "source": [
    "import random\n",
    "\n",
    "print('What\\'s your favorite color?')\n",
    "favcolor = input()\n",
    "colors = ['red', 'orange', 'yellow', 'green', 'blue', 'indigo', 'purple']\n",
    "print(f'You like {favcolor}? That\\'s a great color. My favorite color is {random.choice(colors)}.')"
   ]
  },
  {
   "cell_type": "code",
   "execution_count": 8,
   "metadata": {},
   "outputs": [],
   "source": [
    "import time\n",
    "import random\n",
    "\n",
    "class Bot:\n",
    "    ## Use this class variable to set the delay before each bot output\n",
    "    wait = 1\n",
    "    \n",
    "    def __init__(self):\n",
    "        self.q = ''\n",
    "        self.a = ''\n",
    "    \n",
    "    def _think(self, s):\n",
    "        return s\n",
    "    \n",
    "    def _say(self, s):\n",
    "        time.sleep(Bot.wait)\n",
    "        print(s)\n",
    "\n",
    "    def run(self):\n",
    "        self._say(self.q)\n",
    "        self.a = input()\n",
    "        self._say(self._think(self.a))"
   ]
  },
  {
   "cell_type": "code",
   "execution_count": 9,
   "metadata": {},
   "outputs": [],
   "source": [
    "class HelloBot(Bot):\n",
    "    def __init__(self):\n",
    "        self.q = 'Hi, what is your name?'\n",
    "    \n",
    "    def _think(self, s):\n",
    "        return f'Hello {s}!'\n",
    "\n",
    "\n",
    "class GreetingBot(Bot):\n",
    "    def __init__(self):\n",
    "        self.q = 'How are you today?'\n",
    "    \n",
    "    def _think(self, s):\n",
    "        if 'good' in s.lower():\n",
    "            return 'I am feeling good too!'\n",
    "        else:\n",
    "            return 'Sorry to hear that.'\n",
    "            \n",
    "\n",
    "class FavoriteColorBot(Bot):\n",
    "    def __init__(self):\n",
    "        self.q = 'What\\'s your favorite color??'\n",
    "    \n",
    "    def _think(self, s):\n",
    "        colors = ['red', 'orange', 'yellow', 'green', 'blue', 'indigo', 'purple']\n",
    "        return f'You like {s}? That is a great color. My favorite color is {random.choice(colors)}.'"
   ]
  },
  {
   "cell_type": "code",
   "execution_count": 10,
   "metadata": {},
   "outputs": [
    {
     "name": "stdout",
     "output_type": "stream",
     "text": [
      "Hi, what is your name?\n"
     ]
    },
    {
     "name": "stdin",
     "output_type": "stream",
     "text": [
      " Neo\n"
     ]
    },
    {
     "name": "stdout",
     "output_type": "stream",
     "text": [
      "Hello Neo!\n",
      "How are you today?\n"
     ]
    },
    {
     "name": "stdin",
     "output_type": "stream",
     "text": [
      " good\n"
     ]
    },
    {
     "name": "stdout",
     "output_type": "stream",
     "text": [
      "I am feeling good too!\n",
      "What's your favorite color??\n"
     ]
    },
    {
     "name": "stdin",
     "output_type": "stream",
     "text": [
      " red\n"
     ]
    },
    {
     "name": "stdout",
     "output_type": "stream",
     "text": [
      "You like red? That is a great color. My favorite color is indigo.\n"
     ]
    }
   ],
   "source": [
    "h = HelloBot()   \n",
    "g = GreetingBot()      \n",
    "f = FavoriteColorBot()\n",
    "\n",
    "h.run()\n",
    "g.run()\n",
    "f.run()"
   ]
  },
  {
   "cell_type": "code",
   "execution_count": 17,
   "metadata": {},
   "outputs": [],
   "source": [
    "lst = []"
   ]
  },
  {
   "cell_type": "code",
   "execution_count": 18,
   "metadata": {},
   "outputs": [
    {
     "data": {
      "text/plain": [
       "list"
      ]
     },
     "execution_count": 18,
     "metadata": {},
     "output_type": "execute_result"
    }
   ],
   "source": [
    "type(lst)"
   ]
  },
  {
   "cell_type": "code",
   "execution_count": 19,
   "metadata": {},
   "outputs": [
    {
     "data": {
      "text/plain": [
       "0"
      ]
     },
     "execution_count": 19,
     "metadata": {},
     "output_type": "execute_result"
    }
   ],
   "source": [
    "len(lst)"
   ]
  },
  {
   "cell_type": "code",
   "execution_count": 20,
   "metadata": {},
   "outputs": [
    {
     "name": "stdout",
     "output_type": "stream",
     "text": [
      "['red']\n"
     ]
    }
   ],
   "source": [
    "lst.append('red')\n",
    "print(lst)"
   ]
  },
  {
   "cell_type": "code",
   "execution_count": 21,
   "metadata": {},
   "outputs": [
    {
     "name": "stdout",
     "output_type": "stream",
     "text": [
      "['red', 'blue']\n"
     ]
    }
   ],
   "source": [
    "lst.append('blue')\n",
    "print(lst)"
   ]
  },
  {
   "cell_type": "code",
   "execution_count": 22,
   "metadata": {},
   "outputs": [
    {
     "data": {
      "text/plain": [
       "2"
      ]
     },
     "execution_count": 22,
     "metadata": {},
     "output_type": "execute_result"
    }
   ],
   "source": [
    "len(lst)"
   ]
  },
  {
   "cell_type": "code",
   "execution_count": 26,
   "metadata": {},
   "outputs": [],
   "source": [
    "class Garfield:\n",
    "    \n",
    "    def __init__(self):\n",
    "        self.bots = []\n",
    "        \n",
    "    def add(self, bot):\n",
    "        self.bots.append(bot)\n",
    "    \n",
    "    def run(self):\n",
    "        print('Welcome to Garfield dialog system. Let\\'s Talk.')\n",
    "        print()\n",
    "        \n",
    "        for bot in self.bots:\n",
    "            bot.run()"
   ]
  },
  {
   "cell_type": "code",
   "execution_count": 27,
   "metadata": {},
   "outputs": [
    {
     "name": "stdout",
     "output_type": "stream",
     "text": [
      "Welcome to Garfield dialog system. Let's Talk.\n",
      "\n",
      "Hi, what is your name?\n"
     ]
    },
    {
     "name": "stdin",
     "output_type": "stream",
     "text": [
      " neo\n"
     ]
    },
    {
     "name": "stdout",
     "output_type": "stream",
     "text": [
      "Hello neo!\n",
      "How are you today?\n"
     ]
    },
    {
     "name": "stdin",
     "output_type": "stream",
     "text": [
      " good\n"
     ]
    },
    {
     "name": "stdout",
     "output_type": "stream",
     "text": [
      "I am feeling good too!\n",
      "What's your favorite color??\n"
     ]
    },
    {
     "name": "stdin",
     "output_type": "stream",
     "text": [
      " red\n"
     ]
    },
    {
     "name": "stdout",
     "output_type": "stream",
     "text": [
      "You like red? That is a great color. My favorite color is red.\n"
     ]
    }
   ],
   "source": [
    "garfield = Garfield()\n",
    "garfield.add(HelloBot())\n",
    "garfield.add(GreetingBot())\n",
    "garfield.add(FavoriteColorBot())\n",
    "garfield.run()"
   ]
  },
  {
   "cell_type": "code",
   "execution_count": null,
   "metadata": {},
   "outputs": [],
   "source": []
  }
 ],
 "metadata": {
  "kernelspec": {
   "display_name": "Python 3",
   "language": "python",
   "name": "python3"
  },
  "language_info": {
   "codemirror_mode": {
    "name": "ipython",
    "version": 3
   },
   "file_extension": ".py",
   "mimetype": "text/x-python",
   "name": "python",
   "nbconvert_exporter": "python",
   "pygments_lexer": "ipython3",
   "version": "3.7.4"
  }
 },
 "nbformat": 4,
 "nbformat_minor": 4
}
